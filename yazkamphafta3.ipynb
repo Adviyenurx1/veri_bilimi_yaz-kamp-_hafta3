{
  "nbformat": 4,
  "nbformat_minor": 0,
  "metadata": {
    "colab": {
      "provenance": []
    },
    "kernelspec": {
      "name": "python3",
      "display_name": "Python 3"
    },
    "language_info": {
      "name": "python"
    }
  },
  "cells": [
    {
      "cell_type": "markdown",
      "source": [
        "**Haftalık Ödev – Yaz Kampı: Veri Bilimi – Hafta 3**\n",
        "\n",
        "Soru 1 – Liste Metotları\n",
        "\n",
        "Bir sınıfta öğrencilerin notları şu şekilde tutuluyor:\n",
        "\n",
        "notlar = [85, 92, 76, 92, 100, 76, 85, 92]\n",
        "• Listedeki tekrar eden notları silip benzersiz bir liste oluşturun.\n",
        "• En yüksek ve en düşük notu bulun.\n",
        "• Notları küçükten büyüğe sıralayın."
      ],
      "metadata": {
        "id": "vrZLuErSwwk5"
      }
    },
    {
      "cell_type": "code",
      "source": [
        "notlar = [85, 92, 76, 92, 100, 76, 85, 92]\n",
        "yeni_liste = []\n",
        "for i in notlar:\n",
        "    if i not in yeni_liste:\n",
        "        yeni_liste.append(i)\n",
        "print( yeni_liste)\n",
        "\n",
        "en_yuksek_not = max(yeni_liste)\n",
        "en_dusuk_not = min(yeni_liste)\n",
        "print(\"En yüksek not:\", en_yuksek_not)\n",
        "print(\"En düşük not:\", en_dusuk_not)\n",
        "\n",
        "yeni_liste.sort()\n",
        "print(\"Küçükten büyüğe sıralanmış liste:\", yeni_liste)"
      ],
      "metadata": {
        "colab": {
          "base_uri": "https://localhost:8080/"
        },
        "id": "5g1il_cHw6gi",
        "outputId": "ab57b85f-cf64-4810-cad2-6cf3de5d698c"
      },
      "execution_count": null,
      "outputs": [
        {
          "output_type": "stream",
          "name": "stdout",
          "text": [
            "[85, 92, 76, 100]\n",
            "En yüksek not: 100\n",
            "En düşük not: 76\n",
            "Küçükten büyüğe sıralanmış liste: [76, 85, 92, 100]\n"
          ]
        }
      ]
    },
    {
      "cell_type": "markdown",
      "source": [
        "Soru 2 – Sayılar\n",
        "\n",
        "Bir sayının Armstrong sayısı olup olmadığını kontrol eden bir Python fonksiyonu yazın.\n",
        "\n",
        "Armstrong sayısı: Her basamağının küplerinin toplamı kendisine eşit olan sayılar.\n",
        "Örn: 153 → 1³+5³+3³ = 153"
      ],
      "metadata": {
        "id": "2_G5snFP8bHP"
      }
    },
    {
      "cell_type": "code",
      "source": [
        "def armstrong_sayi(sayi):\n",
        "  basamaklar = [int(x) for x in str(sayi)]\n",
        "  toplam = sum([b ** 3 for b in basamaklar])\n",
        "  if toplam == sayi:\n",
        "    return True\n",
        "  else:\n",
        "    return False\n",
        "\n",
        "sayi = int(input(\"Bir sayı girin: \"))\n",
        "if armstrong_sayi(sayi):\n",
        "  print(sayi, \"bir Armstrong sayısıdır.\")\n",
        "else:\n",
        "  print(sayi, \"bir Armstrong sayısı değildir.\")\n"
      ],
      "metadata": {
        "id": "PN0pdFJi8gA_"
      },
      "execution_count": null,
      "outputs": []
    },
    {
      "cell_type": "markdown",
      "source": [
        "Soru 3 – Kümeler\n",
        "\n",
        "Aşağıdaki iki küme verilmiştir:\n",
        "A = {\"Python\", \"R\", \"SQL\", \"Java\"}\n",
        "B = {\"C++\", \"Python\", \"JavaScript\", \"SQL\"}\n",
        "• Ortak dilleri bulun.\n",
        "• Sadece A’da olan dilleri listeleyin.\n",
        "• İki kümenin birleşimini alfabetik olarak yazdırın."
      ],
      "metadata": {
        "id": "kiedkJF1-dc4"
      }
    },
    {
      "cell_type": "code",
      "source": [
        "A = {\"Python\", \"R\", \"SQL\", \"Java\"}\n",
        "B = {\"C++\", \"Python\", \"JavaScript\", \"SQL\"}\n",
        "ortak_dil = A & B\n",
        "print(\"ortak diller:\", ortak_dil)\n",
        "\n",
        "sadece_a = A - B\n",
        "print(\"Sadece A'da olan diller:\", sadece_a)\n",
        "\n",
        "birlesim = sorted(A | B)\n",
        "print(\"İki kümenin birleşimleri:\", birlesim)"
      ],
      "metadata": {
        "id": "zIH1Ua9x_X2U"
      },
      "execution_count": null,
      "outputs": []
    },
    {
      "cell_type": "markdown",
      "source": [
        "Soru 4 – Modüller\n",
        "\n",
        "• random modülünü kullanarak 1–100 arasında 10 rastgele sayı üretin.\n",
        "• Bu sayıların ortalamasını ve standart sapmasını statistics modülü ile hesaplayın.\n"
      ],
      "metadata": {
        "id": "nAHNaX4rP1Jl"
      }
    },
    {
      "cell_type": "code",
      "source": [
        "import random\n",
        "import statistics\n",
        "\n",
        "rastgele_sayilar = [random.randint(1, 100) for _ in range(10)]\n",
        "print(\"Üretilen rastgele sayılar:\", rastgele_sayilar)\n",
        "\n",
        "\n",
        "ortalama = statistics.mean(rastgele_sayilar)\n",
        "standart_sapma = statistics.stdev(rastgele_sayilar)\n",
        "\n",
        "print(\"Ortalama:\", ortalama)\n",
        "print(\"Standart sapma:\", standart_sapma)"
      ],
      "metadata": {
        "colab": {
          "base_uri": "https://localhost:8080/"
        },
        "id": "7uTkLzbgP82P",
        "outputId": "f1e75e0d-c15e-4cbb-dfe3-2629d53ca4a0"
      },
      "execution_count": null,
      "outputs": [
        {
          "output_type": "stream",
          "name": "stdout",
          "text": [
            "Üretilen rastgele sayılar: [75, 83, 52, 28, 40, 100, 77, 70, 36, 11]\n",
            "Ortalama: 57.2\n",
            "Standart sapma: 28.145652910845357\n"
          ]
        }
      ]
    },
    {
      "cell_type": "markdown",
      "source": [
        "Soru 5 – Fonksiyonlar\n",
        "\n",
        "kelime_sayacı(metin) adında bir fonksiyon yazın.\n",
        "Fonksiyon verilen metindeki:\n",
        "\n",
        "• toplam kelime sayısını\n",
        "• en uzun kelimeyi\n",
        "• en sık geçen kelimeyi döndürsün."
      ],
      "metadata": {
        "id": "pUIKBDCqWHUW"
      }
    },
    {
      "cell_type": "code",
      "source": [
        "metin = \"Veri bilimi yaz kampında veri bilimine giriş eğitimi almaya başladım.\"\n",
        "from collections import Counter\n",
        "\n",
        "def kelime_bilgileri(metin):\n",
        "    kelimeler = metin.split()\n",
        "    kelime_sayisi = len(kelimeler)\n",
        "    en_uzun_kelime = max(kelimeler, key=len)\n",
        "    en_sik_kelime = Counter(kelimeler).most_common(1)[0][0]\n",
        "    return kelime_sayisi, en_uzun_kelime, en_sik_kelime\n",
        "\n",
        "kelime_sayisi, en_uzun_kelime, en_sik_kelime = kelime_bilgileri(metin)\n",
        "\n",
        "print(\"Kelime sayısı:\", kelime_sayisi)\n",
        "print(\"En uzun kelime:\", en_uzun_kelime)\n",
        "print(\"En sık geçen kelime:\", en_sik_kelime)\n"
      ],
      "metadata": {
        "colab": {
          "base_uri": "https://localhost:8080/"
        },
        "id": "eeYErehQc6ey",
        "outputId": "78813a60-e772-46e2-ec69-588bd84608e0"
      },
      "execution_count": null,
      "outputs": [
        {
          "output_type": "stream",
          "name": "stdout",
          "text": [
            "Kelime sayısı: 10\n",
            "En uzun kelime: başladım.\n",
            "En sık geçen kelime: Veri\n"
          ]
        }
      ]
    },
    {
      "cell_type": "markdown",
      "source": [
        "Soru 6 – Gömülü Fonksiyonlar\n",
        "\n",
        "Aşağıdaki liste için map, filter, sorted gibi gömülü fonksiyonları kullanarak:\n",
        "\n",
        "sayilar = [5, 12, 7, 18, 24, 3, 16]\n",
        "\n",
        "• Sadece çift sayıları filtreleyin.\n",
        "• Bu sayıların karelerini bulun.\n",
        "• Karelerini azalan sırada sıralayın."
      ],
      "metadata": {
        "id": "Y_10mUtTr2V2"
      }
    },
    {
      "cell_type": "code",
      "source": [
        "sayilar = [5, 12, 7, 18, 24, 3, 16]\n",
        "sonuc = filter(lambda x: x % 2 == 0, sayilar)\n",
        "print(\"Çift sayılar:\",list(sonuc) )\n",
        "\n",
        "kareler = list(map(lambda x: x ** 2, sayilar))\n",
        "print(\"Sayıların kareleri\", list(kareler))\n",
        "\n",
        "siralama = sorted(  kareler, reverse = True)\n",
        "print(\"Azalan liste:\", siralama)\n"
      ],
      "metadata": {
        "colab": {
          "base_uri": "https://localhost:8080/"
        },
        "id": "KnzdKtbjr281",
        "outputId": "00e67343-62dc-4f8f-f053-55c7527634fb"
      },
      "execution_count": 9,
      "outputs": [
        {
          "output_type": "stream",
          "name": "stdout",
          "text": [
            "Çift sayılar: [12, 18, 24, 16]\n",
            "Sayıların kareleri [25, 144, 49, 324, 576, 9, 256]\n",
            "Azalan liste: [576, 324, 256, 144, 49, 25, 9]\n"
          ]
        }
      ]
    },
    {
      "cell_type": "markdown",
      "source": [
        "Soru 7 – Lambda İfadeleri\n",
        "\n",
        "Aşağıdaki listeyi, her kelimenin uzunluğuna göre küçükten büyüğe sıralayın.\n",
        "\n",
        "kelimeler = [\"veri\", \"bilim\", \"analiz\", \"yapayzeka\", \"python\"]\n",
        "\n",
        "Bunu sorted + lambda ile yapın."
      ],
      "metadata": {
        "id": "RWXnBnIBujuL"
      }
    },
    {
      "cell_type": "code",
      "source": [
        "kelimeler = [\"veri\", \"bilim\", \"analiz\", \"yapayzeka\", \"python\"]\n",
        "siralama = sorted(kelimeler, key=lambda x: len(x))\n",
        "print(siralama)"
      ],
      "metadata": {
        "colab": {
          "base_uri": "https://localhost:8080/"
        },
        "id": "bXA3kszHu10S",
        "outputId": "5b0d17c4-5aaf-420f-ea9b-29cd131e944e"
      },
      "execution_count": 10,
      "outputs": [
        {
          "output_type": "stream",
          "name": "stdout",
          "text": [
            "['veri', 'bilim', 'analiz', 'python', 'yapayzeka']\n"
          ]
        }
      ]
    },
    {
      "cell_type": "markdown",
      "source": [
        "Soru 8 – Metodlar\n",
        "\n",
        "Bir string içinde geçen tüm rakamları bulun ve bunların toplamını döndüren bir fonksiyon\n",
        "yazın.\n",
        "Örn: \"abc12def3\" → 12 + 3 = 15"
      ],
      "metadata": {
        "id": "wUZ3jWc4wZ__"
      }
    },
    {
      "cell_type": "code",
      "source": [
        "string = \"123veribilimiyazkampı456\"\n",
        "def rakam_toplami(string):\n",
        "    rakamlar = [int(i) for i in string if i.isdigit()]\n",
        "    toplam = sum(rakamlar)\n",
        "    return toplam\n",
        "print(rakam_toplami(string))"
      ],
      "metadata": {
        "colab": {
          "base_uri": "https://localhost:8080/"
        },
        "id": "H7yBiq_dwur3",
        "outputId": "b9226325-ce4b-424d-f1fc-3a347a973c47"
      },
      "execution_count": 11,
      "outputs": [
        {
          "output_type": "stream",
          "name": "stdout",
          "text": [
            "21\n"
          ]
        }
      ]
    },
    {
      "cell_type": "markdown",
      "source": [
        "Soru 9 – (Ekstra) Numpy 1  \n",
        "\n",
        "10 elemanlı bir numpy dizisi oluşturun.\n",
        "• Elemanlar 0–50 arasında rastgele sayılar olsun.\n",
        "• Dizinin ortalamasını, standart sapmasını ve en büyük değerini bulun.\n"
      ],
      "metadata": {
        "id": "ap6d9Fmwxg9H"
      }
    },
    {
      "cell_type": "code",
      "source": [
        "import numpy as np\n",
        "\n",
        "dizi = np.random.randint(0, 51, size=10)\n",
        "print(\"Dizi:\", dizi)\n",
        "\n",
        "ortalama = np.mean(dizi)\n",
        "\n",
        "std_sapma = np.std(dizi)\n",
        "\n",
        "en_buyuk = np.max(dizi)\n",
        "\n",
        "print(\"Ortalama:\", ortalama)\n",
        "print(\"Standart Sapma:\", std_sapma)\n",
        "print(\"En Büyük Değer:\", en_buyuk)\n"
      ],
      "metadata": {
        "colab": {
          "base_uri": "https://localhost:8080/"
        },
        "id": "eoidLcKXyLZT",
        "outputId": "03df5831-1d74-4602-b79d-2ae9bad13096"
      },
      "execution_count": 14,
      "outputs": [
        {
          "output_type": "stream",
          "name": "stdout",
          "text": [
            "Dizi: [ 1 33 23 15 34 38 19 41 20 43]\n",
            "Ortalama: 26.7\n",
            "Standart Sapma: 12.673200069437868\n",
            "En Büyük Değer: 43\n"
          ]
        }
      ]
    },
    {
      "cell_type": "markdown",
      "source": [
        "Soru 10 – (Ekstra) Numpy 2\n",
        "\n",
        "5x5 boyutunda rastgele 0–1 arasında değerlerden oluşan bir numpy matrisi üretin.\n",
        "\n",
        "• Her sütunun ortalamasını bulun.\n",
        "\n",
        "• 0.5’ten büyük olan değerleri 1, küçük eşit olanları 0 yaparak binary matris oluşturun."
      ],
      "metadata": {
        "id": "hBGpCrLGymqc"
      }
    },
    {
      "cell_type": "code",
      "source": [
        "import numpy as np\n",
        "\n",
        "matris = np.random.rand(5, 5)\n",
        "print(\"Orijinal Matris:\\n\", matris)\n",
        "\n",
        "sutun_ort = np.mean(matris, axis=0)\n",
        "print(\"\\nSütun Ortalamaları:\", sutun_ort)\n",
        "\n",
        "binary_matris = (matris > 0.5).astype(int)\n",
        "print(\"\\nBinary Matris:\\n\", binary_matris)\n"
      ],
      "metadata": {
        "colab": {
          "base_uri": "https://localhost:8080/"
        },
        "id": "YRqFj9Xkyv1a",
        "outputId": "3a4879ec-3f4e-4048-b98d-d540935eb2ff"
      },
      "execution_count": 16,
      "outputs": [
        {
          "output_type": "stream",
          "name": "stdout",
          "text": [
            "Orijinal Matris:\n",
            " [[0.17327392 0.58577388 0.92446882 0.54500253 0.79780219]\n",
            " [0.49097522 0.47049588 0.48473439 0.41319305 0.87173404]\n",
            " [0.71691686 0.20106359 0.51094765 0.90238454 0.12841918]\n",
            " [0.98724852 0.82941318 0.53863152 0.16187889 0.80541372]\n",
            " [0.70271025 0.9073499  0.60736966 0.62525203 0.86733517]]\n",
            "\n",
            "Sütun Ortalamaları: [0.61422496 0.59881928 0.61323041 0.52954221 0.69414086]\n",
            "\n",
            "Binary Matris:\n",
            " [[0 1 1 1 1]\n",
            " [0 0 0 0 1]\n",
            " [1 0 1 1 0]\n",
            " [1 1 1 0 1]\n",
            " [1 1 1 1 1]]\n"
          ]
        }
      ]
    }
  ]
}